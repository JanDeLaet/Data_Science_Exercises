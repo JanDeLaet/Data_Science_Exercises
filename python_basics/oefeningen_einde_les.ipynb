{
 "cells": [
  {
   "cell_type": "markdown",
   "id": "912a71e2",
   "metadata": {},
   "source": [
    "### Vraag de gebruiker om zijn leeftijd en geef als output het jaar waarin de gebruiker 100 jaar zal zijn."
   ]
  },
  {
   "cell_type": "code",
   "execution_count": 27,
   "id": "7fb35d6a",
   "metadata": {},
   "outputs": [
    {
     "name": "stdout",
     "output_type": "stream",
     "text": [
      "Geef je leeftijd50\n",
      "2022\n",
      "Je wordt 100 in het jaar 2072.\n"
     ]
    }
   ],
   "source": [
    "import datetime\n",
    "leeftijd = int(input('Geef je leeftijd'))\n",
    "jaar = datetime.datetime.now().year\n",
    "print(jaar)\n",
    "print(f'Je wordt 100 in het jaar {100 - leeftijd + jaar}.')"
   ]
  },
  {
   "cell_type": "markdown",
   "id": "de1192ab",
   "metadata": {},
   "source": [
    "### Schrijf een programma dat de gebruiker vraagt om een getal"
   ]
  },
  {
   "cell_type": "code",
   "execution_count": 40,
   "id": "678cf0bb",
   "metadata": {},
   "outputs": [
    {
     "name": "stdout",
     "output_type": "stream",
     "text": [
      "Geef een getal8\n",
      "dit getal is even en deelbaar door 4\n"
     ]
    }
   ],
   "source": [
    "getal = int(input('Geef een getal'))\n",
    "res1 = 'even' if (getal % 2) == 0 else 'oneven'\n",
    "res2 = 'deelbaar door 4' if (getal % 4) == 0 else 'niet deelbaar door vier'\n",
    "print(f'dit getal is {res1} en {res2}')\n"
   ]
  },
  {
   "cell_type": "markdown",
   "id": "4160c4e2",
   "metadata": {},
   "source": [
    "### Schrijf een programma dat vraagt om een getal n en als output de eerste n Fibonacci  getallen geeft."
   ]
  },
  {
   "cell_type": "code",
   "execution_count": 65,
   "id": "8854fb24",
   "metadata": {},
   "outputs": [
    {
     "name": "stdout",
     "output_type": "stream",
     "text": [
      "Geef lengte reeks20\n",
      "0, 1, 1, 2, 3, 5, 8, 13, 21, 34, 55, 89, 144, 233, 377, 610, 987, 1597, 2584, 4181\n"
     ]
    }
   ],
   "source": [
    "lengte = int(input('Geef lengte reeks'))\n",
    "\n",
    "reeks = []\n",
    "\n",
    "for i in range(lengte):\n",
    "    \n",
    "    if i == 0 or i == 1:\n",
    "        reeks.append(i)\n",
    "    else:\n",
    "        reeks.append(reeks[i-2] + reeks[i-1])\n",
    "\n",
    "print(', '.join(str(getal) for getal in reeks))\n",
    "    \n",
    "\n",
    "\n"
   ]
  },
  {
   "cell_type": "markdown",
   "id": "7b711a1f",
   "metadata": {},
   "source": [
    "### Uitbreiding: schrijf een programma dat gegeven de parameters P & Q de eerste n Lucas getallen teruggeeft"
   ]
  },
  {
   "cell_type": "code",
   "execution_count": null,
   "id": "4be5f829",
   "metadata": {},
   "outputs": [],
   "source": []
  },
  {
   "cell_type": "markdown",
   "id": "6253678a",
   "metadata": {},
   "source": [
    "### Schrijf een paswoord generator die, gegeven een getal n een paswoord genereert dat bestaat uit n willekeurige karakters."
   ]
  },
  {
   "cell_type": "code",
   "execution_count": 28,
   "id": "7aef3938",
   "metadata": {},
   "outputs": [
    {
     "name": "stdout",
     "output_type": "stream",
     "text": [
      "Geef het aantal karakters voor je paswoord20\n",
      "Je paswoord is I;!NF+h-8xzj?qW}9K&*\n"
     ]
    }
   ],
   "source": [
    "from random import sample\n",
    "import string\n",
    "\n",
    "aantal_karakters = int(input('Geef het aantal karakters voor je paswoord'))\n",
    "letters = (string.ascii_letters + string.digits + string.punctuation).replace('\"','').replace(\"'\",'')\n",
    "\n",
    "pw = ''.join(sample(letters,aantal_karakters))\n",
    "print(f'Je paswoord is {pw}')"
   ]
  },
  {
   "cell_type": "markdown",
   "id": "39908df1",
   "metadata": {},
   "source": [
    "### Schrijf een programma dat gegeven een string de string volledig omdraait"
   ]
  },
  {
   "cell_type": "code",
   "execution_count": 29,
   "id": "6b7ca650",
   "metadata": {},
   "outputs": [
    {
     "name": "stdout",
     "output_type": "stream",
     "text": [
      "Geef een willekeurige stringDit is een zin\n",
      "zin een is Dit\n"
     ]
    }
   ],
   "source": [
    "input_string = input('Geef een willekeurige string')\n",
    "input_list = input_string.split(' ')\n",
    "reversed_list = input_list[::-1]\n",
    "reversed_string = ' '.join([char for char in reversed_list])\n",
    "\n",
    "print (reversed_string)"
   ]
  },
  {
   "cell_type": "markdown",
   "id": "690eb894",
   "metadata": {},
   "source": [
    "### Schrijf een spel schaar-steen-papier waarbij je continu vraagt voor input van de gebruiker; je  hebt dan 4 keuzes: “schaar”, “steen”, “papier” of “stop”. Als de gebruiker stop ingeeft stopt  het programma en bij de keuze van schaar/steen/papier speel je een spelletje schaar steen  papier tegen de computer. Geef aan wie er gewonnen is en de tussenstand."
   ]
  },
  {
   "cell_type": "code",
   "execution_count": 84,
   "id": "7c8dca0d",
   "metadata": {},
   "outputs": [
    {
     "name": "stdout",
     "output_type": "stream",
     "text": [
      "rock, paper, scissors of stoprok\n",
      "We hebben allebei rock gekozen\n",
      "Tussenstand: 0 gewonnen, 0 verloren\n",
      "\n",
      "rock, paper, scissors of stopscis\n",
      "Prima, rock wint van scissors.\n",
      "Tussenstand: 1 gewonnen, 0 verloren\n",
      "\n",
      "rock, paper, scissors of stopsciss\n",
      "We hebben allebei scissors gekozen\n",
      "Tussenstand: 1 gewonnen, 0 verloren\n",
      "\n",
      "rock, paper, scissors of stoppap\n",
      "Prima, paper wint van rock.\n",
      "Tussenstand: 2 gewonnen, 0 verloren\n",
      "\n",
      "rock, paper, scissors of stopstop\n",
      "Einde van het spel. Je bent gewonnen!\n"
     ]
    }
   ],
   "source": [
    "from random import sample\n",
    "from Levenshtein import distance\n",
    "\n",
    "def game(lang):\n",
    "\n",
    "    possible_vals = {\n",
    "        'nl': {\n",
    "            'steen': {'wins_from': 'schaar'},\n",
    "            'papier': {'wins_from': 'steen'},\n",
    "            'schaar': {'wins_from': 'papier'}\n",
    "        },\n",
    "        'en': {\n",
    "            'rock': {'wins_from': 'scissors'},\n",
    "            'paper': {'wins_from': 'rock'},\n",
    "            'scissors': {'wins_from': 'paper'}\n",
    "        },\n",
    "    }\n",
    "    \n",
    "    possible_vals = possible_vals[lang]\n",
    "\n",
    "    wins=0\n",
    "    loses=0\n",
    "\n",
    "    while True:\n",
    "\n",
    "            human_val = input(', '.join([v for v in possible_vals]) + ' of stop').lower()\n",
    "            computer_val = ''.join(sample([v for v in possible_vals], 1)).lower()\n",
    "            \n",
    "            if human_val == 'stop':\n",
    "                if(wins>loses):\n",
    "                    result = 'Je bent gewonnen'\n",
    "                elif(wins == loses):\n",
    "                    result = 'Het is gelijkspel'\n",
    "                else:\n",
    "                    result = 'Je bent verloren'\n",
    "                print(f'Einde van het spel. {result}!')\n",
    "                break\n",
    "            \n",
    "            if not human_val in possible_vals:\n",
    "                max_dist = 10**4\n",
    "                corrected_human_val = \"\"\n",
    "                for v in possible_vals:\n",
    "                    dist = distance(human_val,v)\n",
    "                    if dist < max_dist:\n",
    "                        max_dist = dist\n",
    "                        corrected_human_val = v\n",
    "                human_val = corrected_human_val\n",
    "\n",
    "            if human_val == computer_val:\n",
    "                print(f'We hebben allebei {human_val} gekozen\\nTussenstand: {wins} gewonnen, {loses} verloren\\n')\n",
    "\n",
    "            elif possible_vals[human_val]['wins_from'] == computer_val:\n",
    "                wins += 1\n",
    "                print(f'Prima, {human_val} wint van {computer_val}.\\nTussenstand: {wins} gewonnen, {loses} verloren\\n')\n",
    "\n",
    "            else:\n",
    "                loses +=1\n",
    "                print(f'Sorry, {human_val} verliest van {computer_val}.\\nTussenstand: {wins} gewonnen, {loses} verloren\\n')\n",
    "                \n",
    "game('en')\n",
    "            "
   ]
  },
  {
   "cell_type": "code",
   "execution_count": null,
   "id": "bb936a82",
   "metadata": {},
   "outputs": [],
   "source": []
  },
  {
   "cell_type": "code",
   "execution_count": null,
   "id": "34f78b38",
   "metadata": {},
   "outputs": [],
   "source": []
  }
 ],
 "metadata": {
  "kernelspec": {
   "display_name": "Python 3 (ipykernel)",
   "language": "python",
   "name": "python3"
  },
  "language_info": {
   "codemirror_mode": {
    "name": "ipython",
    "version": 3
   },
   "file_extension": ".py",
   "mimetype": "text/x-python",
   "name": "python",
   "nbconvert_exporter": "python",
   "pygments_lexer": "ipython3",
   "version": "3.9.12"
  }
 },
 "nbformat": 4,
 "nbformat_minor": 5
}
