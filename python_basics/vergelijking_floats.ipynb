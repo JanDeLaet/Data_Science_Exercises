{
 "cells": [
  {
   "cell_type": "code",
   "execution_count": 2,
   "id": "31319497",
   "metadata": {},
   "outputs": [],
   "source": [
    "a = 4.000000000000000000000000000000000000001\n",
    "b = 4"
   ]
  },
  {
   "cell_type": "markdown",
   "id": "f9c8d859",
   "metadata": {},
   "source": [
    "Niet goed"
   ]
  },
  {
   "cell_type": "code",
   "execution_count": 9,
   "id": "470a28ea",
   "metadata": {},
   "outputs": [
    {
     "data": {
      "text/plain": [
       "True"
      ]
     },
     "execution_count": 9,
     "metadata": {},
     "output_type": "execute_result"
    }
   ],
   "source": [
    "a == b"
   ]
  },
  {
   "cell_type": "markdown",
   "id": "7fbc829d",
   "metadata": {},
   "source": [
    "Goed"
   ]
  },
  {
   "cell_type": "code",
   "execution_count": 10,
   "id": "0d222fbc",
   "metadata": {},
   "outputs": [
    {
     "data": {
      "text/plain": [
       "False"
      ]
     },
     "execution_count": 10,
     "metadata": {},
     "output_type": "execute_result"
    }
   ],
   "source": [
    "abs(a-b) == 10**(-6)"
   ]
  },
  {
   "cell_type": "code",
   "execution_count": null,
   "id": "b3817896",
   "metadata": {},
   "outputs": [],
   "source": []
  }
 ],
 "metadata": {
  "kernelspec": {
   "display_name": "Python 3 (ipykernel)",
   "language": "python",
   "name": "python3"
  },
  "language_info": {
   "codemirror_mode": {
    "name": "ipython",
    "version": 3
   },
   "file_extension": ".py",
   "mimetype": "text/x-python",
   "name": "python",
   "nbconvert_exporter": "python",
   "pygments_lexer": "ipython3",
   "version": "3.9.12"
  }
 },
 "nbformat": 4,
 "nbformat_minor": 5
}
