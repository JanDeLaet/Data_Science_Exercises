{
 "cells": [
  {
   "cell_type": "code",
   "execution_count": 15,
   "id": "d1a4f8fb",
   "metadata": {},
   "outputs": [
    {
     "name": "stdout",
     "output_type": "stream",
     "text": [
      "\n",
      "*\n",
      "**\n",
      "***\n",
      "****\n"
     ]
    }
   ],
   "source": [
    "output = ''\n",
    "for i in range (5):\n",
    "    print ('*' * i)\n",
    "    "
   ]
  },
  {
   "cell_type": "code",
   "execution_count": 16,
   "id": "9c5e2c44",
   "metadata": {},
   "outputs": [
    {
     "name": "stdout",
     "output_type": "stream",
     "text": [
      "***\n",
      "***\n",
      "***\n",
      "***\n",
      "***\n"
     ]
    }
   ],
   "source": [
    "output = '***'\n",
    "for i in range (5):\n",
    "    print ('*' * 3)"
   ]
  },
  {
   "cell_type": "code",
   "execution_count": 14,
   "id": "bd351f81",
   "metadata": {},
   "outputs": [
    {
     "name": "stdout",
     "output_type": "stream",
     "text": [
      "1 0\n",
      "2 0\n",
      "2 1\n",
      "3 0\n",
      "3 1\n",
      "3 2\n",
      "4 0\n",
      "4 1\n",
      "4 2\n",
      "4 3\n"
     ]
    }
   ],
   "source": [
    "for i in range (1,5):\n",
    "    for j in range(i):\n",
    "        print (i,j)"
   ]
  },
  {
   "cell_type": "code",
   "execution_count": 11,
   "id": "d8674500",
   "metadata": {},
   "outputs": [
    {
     "name": "stdout",
     "output_type": "stream",
     "text": [
      "2 * 4 = 8\n",
      "2 * 6 = 12\n",
      "4 * 2 = 8\n",
      "4 * 6 = 24\n",
      "6 * 2 = 12\n",
      "6 * 4 = 24\n"
     ]
    }
   ],
   "source": [
    "for i in range (2,7,2):\n",
    "    for j in range (2,7,2):\n",
    "        if j == i:\n",
    "            continue\n",
    "        print (f'{i} * {j} = {i*j}')"
   ]
  },
  {
   "cell_type": "code",
   "execution_count": 19,
   "id": "ee4a2e40",
   "metadata": {},
   "outputs": [
    {
     "name": "stdout",
     "output_type": "stream",
     "text": [
      "Jan Jan Jan\n",
      "Lotte Lotte Lotte\n",
      "Liesbeth Liesbeth Liesbeth\n"
     ]
    }
   ],
   "source": [
    "names = ['Jan', 'Lotte', 'Liesbeth']\n",
    "for name in names:\n",
    "    print(' '.join(name for i in range(3)))"
   ]
  },
  {
   "cell_type": "code",
   "execution_count": 22,
   "id": "6544ce1c",
   "metadata": {},
   "outputs": [],
   "source": [
    "def test():\n",
    "    \"\"\"Dit is een functie\"\"\"\n",
    "    pass"
   ]
  },
  {
   "cell_type": "code",
   "execution_count": 23,
   "id": "20cca068",
   "metadata": {},
   "outputs": [],
   "source": [
    "test?"
   ]
  },
  {
   "cell_type": "code",
   "execution_count": 24,
   "id": "dc47ac4c",
   "metadata": {},
   "outputs": [
    {
     "data": {
      "text/plain": [
       "False"
      ]
     },
     "execution_count": 24,
     "metadata": {},
     "output_type": "execute_result"
    }
   ],
   "source": [
    "bool({})"
   ]
  },
  {
   "cell_type": "code",
   "execution_count": null,
   "id": "72f13899",
   "metadata": {},
   "outputs": [],
   "source": []
  }
 ],
 "metadata": {
  "kernelspec": {
   "display_name": "Python 3 (ipykernel)",
   "language": "python",
   "name": "python3"
  },
  "language_info": {
   "codemirror_mode": {
    "name": "ipython",
    "version": 3
   },
   "file_extension": ".py",
   "mimetype": "text/x-python",
   "name": "python",
   "nbconvert_exporter": "python",
   "pygments_lexer": "ipython3",
   "version": "3.9.12"
  }
 },
 "nbformat": 4,
 "nbformat_minor": 5
}
