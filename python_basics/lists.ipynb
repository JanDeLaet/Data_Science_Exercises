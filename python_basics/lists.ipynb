{
 "cells": [
  {
   "cell_type": "code",
   "execution_count": 1,
   "id": "e2115386",
   "metadata": {},
   "outputs": [],
   "source": [
    "lijst = [0,1,2,3,4,5,6,7,8,9]"
   ]
  },
  {
   "cell_type": "markdown",
   "id": "9d944312",
   "metadata": {},
   "source": [
    "[start:einde:spronggrootte]"
   ]
  },
  {
   "cell_type": "markdown",
   "id": "c9a14052",
   "metadata": {},
   "source": [
    "van pos 1 tot 6 (6 niet meegenomen) in stappen van 2"
   ]
  },
  {
   "cell_type": "code",
   "execution_count": 2,
   "id": "3bf066ce",
   "metadata": {},
   "outputs": [
    {
     "data": {
      "text/plain": [
       "[1, 3, 5]"
      ]
     },
     "execution_count": 2,
     "metadata": {},
     "output_type": "execute_result"
    }
   ],
   "source": [
    "lijst[1:6:2]"
   ]
  },
  {
   "cell_type": "code",
   "execution_count": 3,
   "id": "8f9c328e",
   "metadata": {},
   "outputs": [
    {
     "data": {
      "text/plain": [
       "9"
      ]
     },
     "execution_count": 3,
     "metadata": {},
     "output_type": "execute_result"
    }
   ],
   "source": [
    "lijst[-1]"
   ]
  },
  {
   "cell_type": "code",
   "execution_count": 4,
   "id": "bc7be1f1",
   "metadata": {},
   "outputs": [
    {
     "data": {
      "text/plain": [
       "[6, 4, 2]"
      ]
     },
     "execution_count": 4,
     "metadata": {},
     "output_type": "execute_result"
    }
   ],
   "source": [
    "lijst[6:1:(-2)]"
   ]
  },
  {
   "cell_type": "code",
   "execution_count": null,
   "id": "67586e2a",
   "metadata": {},
   "outputs": [],
   "source": []
  }
 ],
 "metadata": {
  "kernelspec": {
   "display_name": "Python 3 (ipykernel)",
   "language": "python",
   "name": "python3"
  },
  "language_info": {
   "codemirror_mode": {
    "name": "ipython",
    "version": 3
   },
   "file_extension": ".py",
   "mimetype": "text/x-python",
   "name": "python",
   "nbconvert_exporter": "python",
   "pygments_lexer": "ipython3",
   "version": "3.9.12"
  }
 },
 "nbformat": 4,
 "nbformat_minor": 5
}
