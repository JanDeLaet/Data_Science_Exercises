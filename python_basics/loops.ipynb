{
 "cells": [
  {
   "cell_type": "code",
   "execution_count": 2,
   "id": "14e7cf42",
   "metadata": {},
   "outputs": [
    {
     "name": "stdout",
     "output_type": "stream",
     "text": [
      "0 0\n",
      "0 1\n",
      "0 2\n",
      "0 3\n",
      "0 4\n",
      "0 5\n",
      "1 0\n",
      "1 1\n",
      "1 2\n",
      "1 3\n",
      "1 4\n",
      "1 5\n",
      "2 0\n",
      "2 1\n",
      "2 2\n",
      "2 3\n",
      "2 4\n",
      "2 5\n",
      "3 0\n",
      "3 1\n",
      "3 2\n",
      "3 3\n",
      "3 4\n",
      "3 5\n"
     ]
    }
   ],
   "source": [
    "for i in range(10):\n",
    "    for j in range(10):\n",
    "        print(i,j)\n",
    "        if j == 5:\n",
    "            break\n",
    "    if i == 3:\n",
    "        break;"
   ]
  },
  {
   "cell_type": "code",
   "execution_count": 4,
   "id": "faf8bb82",
   "metadata": {},
   "outputs": [
    {
     "name": "stdout",
     "output_type": "stream",
     "text": [
      "3\n",
      "4\n",
      "6\n",
      "7\n"
     ]
    }
   ],
   "source": [
    "for num in range(3,8):\n",
    "    if num == 5:\n",
    "        continue\n",
    "    else:\n",
    "        print(num)"
   ]
  },
  {
   "cell_type": "code",
   "execution_count": 6,
   "id": "d8fd7b6f",
   "metadata": {},
   "outputs": [
    {
     "name": "stdout",
     "output_type": "stream",
     "text": [
      "0\n",
      "1\n",
      "2\n",
      "3\n",
      "4\n",
      "5\n",
      "6\n",
      "7\n",
      "8\n",
      "9\n",
      "10\n",
      "11\n",
      "12\n",
      "13\n",
      "14\n",
      "15\n",
      "16\n",
      "17\n",
      "18\n",
      "19\n",
      "20\n",
      "gedaan\n"
     ]
    }
   ],
   "source": [
    "for num in range(21):\n",
    "    print(num)\n",
    "else:\n",
    "    print('gedaan')"
   ]
  },
  {
   "cell_type": "code",
   "execution_count": 8,
   "id": "f7c2faed",
   "metadata": {},
   "outputs": [
    {
     "name": "stdout",
     "output_type": "stream",
     "text": [
      "0\n",
      "1\n",
      "2\n",
      "3\n",
      "4\n",
      "5\n",
      "6\n",
      "7\n",
      "8\n",
      "9\n",
      "10\n",
      "11\n",
      "12\n",
      "13\n",
      "14\n",
      "15\n",
      "16\n",
      "17\n",
      "18\n",
      "19\n",
      "20\n"
     ]
    }
   ],
   "source": [
    "for num in range(21):\n",
    "    print(num)\n",
    "    if num == 20:\n",
    "        break\n",
    "else:\n",
    "    print('gedaan')"
   ]
  },
  {
   "cell_type": "code",
   "execution_count": 9,
   "id": "ac62ebd1",
   "metadata": {},
   "outputs": [
    {
     "name": "stdout",
     "output_type": "stream",
     "text": [
      "0\n",
      "1\n",
      "2\n",
      "3\n",
      "4\n",
      "5\n",
      "6\n",
      "7\n",
      "8\n",
      "9\n",
      "10\n",
      "11\n",
      "12\n",
      "13\n",
      "14\n",
      "15\n",
      "16\n",
      "17\n",
      "18\n",
      "19\n",
      "20\n",
      "gedaan\n"
     ]
    }
   ],
   "source": [
    "for num in range(21):\n",
    "    print(num)\n",
    "    if num == 20:\n",
    "        continue\n",
    "else:\n",
    "    print('gedaan')"
   ]
  },
  {
   "cell_type": "code",
   "execution_count": 13,
   "id": "93fbac03",
   "metadata": {},
   "outputs": [
    {
     "name": "stdout",
     "output_type": "stream",
     "text": [
      "Geef een waarde voor a groter dan 100100\n",
      "Geef een waarde voor a groter dan 100101\n"
     ]
    }
   ],
   "source": [
    "a = -100\n",
    "while a <= 100:\n",
    "    a = int(input('Geef een waarde voor a groter dan 100'))"
   ]
  },
  {
   "cell_type": "code",
   "execution_count": null,
   "id": "d1ac39b2",
   "metadata": {},
   "outputs": [],
   "source": [
    "N = 10\n",
    "a = 0\n",
    "\n",
    "for i in range(N):\n",
    "    a+=1\n",
    "    for i in range(M):\n",
    "        a+=1\n",
    "        \n",
    "#compexiteit = N maal M\n"
   ]
  },
  {
   "cell_type": "code",
   "execution_count": null,
   "id": "125c09b0",
   "metadata": {},
   "outputs": [],
   "source": []
  }
 ],
 "metadata": {
  "kernelspec": {
   "display_name": "Python 3 (ipykernel)",
   "language": "python",
   "name": "python3"
  },
  "language_info": {
   "codemirror_mode": {
    "name": "ipython",
    "version": 3
   },
   "file_extension": ".py",
   "mimetype": "text/x-python",
   "name": "python",
   "nbconvert_exporter": "python",
   "pygments_lexer": "ipython3",
   "version": "3.9.12"
  }
 },
 "nbformat": 4,
 "nbformat_minor": 5
}
